{
 "cells": [
  {
   "cell_type": "markdown",
   "metadata": {},
   "source": [
    "# Bericht und Code zum Beleg Maschinelles Lernen\n",
    "\n",
    "\n",
    "Name: Quang Anh Nguyen\n",
    "\n"
   ]
  },
  {
   "cell_type": "markdown",
   "metadata": {},
   "source": [
    "### Gliederung\n",
    "\n",
    "* [Einführung](#Einführung)\n",
    "* [Vorverarbeitung](#Vorverarbeitung)\n",
    "  * [Bibliothek importieren](#Bibliothek-importieren)\n",
    "  * [Daten laden](#Daten-laden)\n",
    "  * [Features extraction](#Features-extraction)\n",
    "      * [Erklärung zu CountVectorizer](#Erklärung-zu-CountVectorizer)\n",
    "      * [Erklärung zu TfidfTransformer](#Erklärung-zu-TfidfTransformer)\n",
    "  * [Feature reduction](#Feature-reduction)\n",
    "      * [Stop word](#Stop-word)\n",
    "      * [Lemmatization](#Lemmatization)\n",
    "  * [Feature selection mit Mutual Information](#Feature-selection-mit-Mutual-Information)\n",
    "* [Processing](#Processing)\n",
    "   * [Logistic Regression](#Logistic-Regression)\n",
    "   * [MultinomialNB](#MultinomialNB)\n",
    "   * [Pipelines](#Pipelines)\n",
    "   \n",
    "* [Evaluation auf der Validation-Menge](#Evaluation-auf-der-Validation-Menge)\n",
    "    * [Voting Gewichtung](#Voting-Gewichtung)\n",
    "    * [Performance](#Performance)\n",
    "    * [ROC-Kurve und AUC Score](#ROC-Kurve-und-AUC-Score)\n",
    "* [Evaluation auf der Testmenge](#Evaluation-auf-der-Testmenge)\n",
    "* [Literaturverzeichnis](#Literaturverzeichnis)"
   ]
  },
  {
   "cell_type": "markdown",
   "metadata": {},
   "source": [
    "## Einführung\n",
    "\n",
    "Wir haben 4651 Artikeln mit entsprechenden Etiketten(labels), die in einem .csv Datei gespeichert ist. Die Etikette besitzt den Wert 1 oder 0. Die Bedeutung von der Klassen ist unklar. Aber unsere Aufgabe ist es, ein Binärklassifikator-Modell zu bauen."
   ]
  },
  {
   "cell_type": "markdown",
   "metadata": {},
   "source": [
    "## Vorverarbeitung"
   ]
  },
  {
   "cell_type": "markdown",
   "metadata": {},
   "source": [
    "### Bibliotheken importieren"
   ]
  },
  {
   "cell_type": "code",
   "execution_count": 17,
   "metadata": {},
   "outputs": [],
   "source": [
    "import pandas as pd\n",
    "import numpy as np\n",
    "import sklearn\n",
    "import nltk\n",
    "\n",
    "import matplotlib.pyplot as plt\n",
    "from sklearn.metrics import roc_auc_score\n",
    "from sklearn.metrics import roc_curve\n",
    "from sklearn.metrics import auc\n",
    "\n",
    "from sklearn.feature_extraction.text import TfidfVectorizer\n",
    "from sklearn.model_selection import train_test_split\n",
    "from sklearn.naive_bayes import MultinomialNB\n",
    "from sklearn.linear_model import LogisticRegression\n",
    "from sklearn.ensemble import VotingClassifier\n",
    " \n",
    "from sklearn.pipeline import Pipeline\n",
    "\n",
    "from sklearn.linear_model import SGDClassifier\n",
    "from sklearn.model_selection import GridSearchCV\n",
    "\n",
    "from sklearn.metrics import classification_report, confusion_matrix, accuracy_score\n",
    "from sklearn.calibration import CalibratedClassifierCV\n",
    "\n",
    "from nltk import word_tokenize     \n",
    "from nltk.stem import WordNetLemmatizer \n",
    "from sklearn.feature_extraction.text import CountVectorizer\n",
    "from sklearn.feature_selection import SelectKBest\n",
    "from sklearn.feature_selection import mutual_info_classif\n",
    "from sklearn.metrics import plot_confusion_matrix\n"
   ]
  },
  {
   "cell_type": "markdown",
   "metadata": {},
   "source": [
    "## Daten laden\n",
    "\n",
    "Erstmal werden die csv- Datei importieren.\n",
    "Die Daten von Spalte \"title\" und \"text\" wurden auf X gesetzt\n",
    "Die Daten von Spalte \"label\" wurden auf y gesetzt"
   ]
  },
  {
   "cell_type": "code",
   "execution_count": 18,
   "metadata": {},
   "outputs": [],
   "source": [
    "df = pd.read_csv('data_beleg.csv', encoding='utf-8').replace('\\d+', 'NUM', regex=True)\n",
    "df.columns = ['id','title','text','label']\n",
    "df.head()\n",
    "X = df['title']+ df['text']\n",
    "y = df['label']"
   ]
  },
  {
   "cell_type": "markdown",
   "metadata": {},
   "source": [
    "## Features extraction"
   ]
  },
  {
   "cell_type": "markdown",
   "metadata": {},
   "source": [
    "##### Erklärung zu CountVectorizer\n",
    "Durch  die Klasse CountVectorizer werden die Daten auf einzelne Wörte tokenisiert. Die Anzahl der Vorkommen von allen Wörten wird gezählt und in einem Matrix gespeichert."
   ]
  },
  {
   "cell_type": "code",
   "execution_count": 19,
   "metadata": {
    "scrolled": true
   },
   "outputs": [],
   "source": [
    "countVectorizer = CountVectorizer().fit_transform(X)"
   ]
  },
  {
   "cell_type": "markdown",
   "metadata": {},
   "source": [
    "##### Erklärung zu TfidfTransformer\n",
    "\n",
    "\n",
    "Tf bedeutet Termfrequenz(Vorkommenshäufigkeit), tf-idf Termfrequenz mal inverse Dokumentfrequenz bedeutet.\n",
    "\n",
    "Die Tf-Idf Nummer ist eine numerische Statistik, die widerspiegeln soll, wie wichtig ein Wort für ein Dokument in einer Sammlung.\n",
    "\n",
    "In einem großen Textkorpus sind einige Wörter sehr vorhanden (z. B. \"the\", \"a\", \"is\" auf Englisch) und enthalten daher nur sehr wenige aussagekräftige Informationen über den tatsächlichen Inhalt des Dokuments. Wenn wir die direkten Zähldaten direkt einem Klassifikator zuführen würden, würden diese sehr häufigen Begriffe die Häufigkeit seltener, aber interessanterer Begriffe beschatten.\n",
    "\n",
    "Um die Zählmerkmale in Gleitkommawerte umzuwandeln, die für die Verwendung durch einen Klassifizierer geeignet sind, wird häufig die tf-idf-Transformation verwendet.\n",
    "\n",
    "\n",
    "Unter Verwendung der Standardeinstellungen des TfidfTransformer wird TfidfTransformer (norm = 'l2', use_idf = True, glatt_idf = True, sublinear_tf = False) die Termhäufigkeit, die Häufigkeit, mit der ein Term in einem bestimmten Dokument vorkommt, mit der IDF-Komponente multipliziert berechnet als:"
   ]
  },
  {
   "cell_type": "markdown",
   "metadata": {},
   "source": [
    "\\begin{align}\n",
    "\\text{idf}(t) = \\log{\\frac{1 + n}{1+\\text{df}(t)}} + 1\n",
    "\\end{align}"
   ]
  },
  {
   "cell_type": "markdown",
   "metadata": {},
   "source": [
    "n ist die Gesamtzahl der Dokumente im Dokumentensatz \n",
    "df(t) die Anzahl der Dokumente im Dokumentensatz, die einen Begriff(term) enthalten."
   ]
  },
  {
   "cell_type": "markdown",
   "metadata": {},
   "source": [
    "\\begin{align}\n",
    "\\text{tf-idf(t,d)}=\\text{tf(t,d)} \\times \\text{idf(t)}\n",
    "\\end{align}"
   ]
  },
  {
   "cell_type": "markdown",
   "metadata": {},
   "source": [
    "### Feature reduction\n",
    "\n",
    "Um einen effektiven Klassifikator zu bauen, muss die Anzahl von Features reduziert werden."
   ]
  },
  {
   "cell_type": "markdown",
   "metadata": {},
   "source": [
    "##### Stop word\n",
    "Stop word sind Wörter, die sehr populär in einer Sprache sind und den Inhalt eines Textes nicht informativ darstellen wie “and”, “the”, “him”. Diese Wörte können entfernt werden , um zu vermeiden, dass sie als Signal für die Vorhersage ausgelegt werden. \n",
    "\n",
    "Manchmal sind jedoch ähnliche Wörter für die Vorhersage nützlich, beispielsweise bei der Klassifizierung des Schreibstils oder der Persönlichkeit.\n",
    "\n",
    "Im folgenden Beispiel kann man sehen, dass die Anzahl von Wörtern deutlich reduziert werden."
   ]
  },
  {
   "cell_type": "code",
   "execution_count": 20,
   "metadata": {},
   "outputs": [
    {
     "name": "stdout",
     "output_type": "stream",
     "text": [
      "67668\n",
      "67979\n"
     ]
    }
   ],
   "source": [
    "cvWithSW = CountVectorizer(stop_words='english')\n",
    "X_vec = cvWithSW.fit_transform(X)\n",
    "print(len(cvWithSW.vocabulary_))\n",
    "\n",
    "\n",
    "cvWithoutSW = CountVectorizer()\n",
    "X_vec = cvWithoutSW.fit_transform(X)\n",
    "print(len(cvWithoutSW.vocabulary_))"
   ]
  },
  {
   "cell_type": "markdown",
   "metadata": {},
   "source": [
    "#### Lemmatization \n",
    "\n",
    "Lemmatization  ist der Prozess der Umwandlung eines Wortes in seine Grundform.\n",
    "\n",
    "Wordnet ist eine große, frei und öffentlich verfügbare lexikalische Datenbank für die englische Sprache, die darauf abzielt, strukturierte semantische Beziehungen zwischen Wörtern herzustellen.\n",
    "\n",
    "Im folgenden Beispiel kann man sehen, dass die Anzahl von Wörtern sehr stark reduziert werden.\n"
   ]
  },
  {
   "cell_type": "code",
   "execution_count": 21,
   "metadata": {},
   "outputs": [
    {
     "name": "stdout",
     "output_type": "stream",
     "text": [
      "63778\n",
      "67979\n"
     ]
    }
   ],
   "source": [
    "from nltk.corpus import stopwords\n",
    "\n",
    "class LemmaTokenizer:\n",
    "    def __init__(self):\n",
    "         self.wnl = WordNetLemmatizer()\n",
    "    def __call__(self, doc):\n",
    "        return [self.wnl.lemmatize(t) for t in word_tokenize(doc)]\n",
    "        \n",
    "cvWithLemmatization = CountVectorizer(tokenizer = LemmaTokenizer())\n",
    "X_vec = cvWithLemmatization.fit_transform(X)\n",
    "print(len(cvWithLemmatization.vocabulary_))\n",
    "\n",
    "\n",
    "cvWithoutSW = CountVectorizer()\n",
    "X_vec = cvWithoutSW.fit_transform(X)\n",
    "print(len(cvWithoutSW.vocabulary_))"
   ]
  },
  {
   "cell_type": "markdown",
   "metadata": {},
   "source": [
    " ##### TfidfVectorizer \n",
    " beinhaltet CountVectorizer und TfidfTransformer.\n",
    " Um die Daten nutzbar machen, muss man sie vektorisieren."
   ]
  },
  {
   "cell_type": "code",
   "execution_count": 22,
   "metadata": {},
   "outputs": [],
   "source": [
    "vectorizer = TfidfVectorizer(tokenizer= LemmaTokenizer(), \n",
    "                             min_df= 0.01, max_df=0.5,\n",
    "                                sublinear_tf=True, \n",
    "                                  norm='l2',  ngram_range=(1, 2), \n",
    "                                  stop_words='english' )"
   ]
  },
  {
   "cell_type": "markdown",
   "metadata": {},
   "source": [
    "## Feature selection mit Mutual Information"
   ]
  },
  {
   "cell_type": "markdown",
   "metadata": {},
   "source": [
    "Durch die Klasse \"sklearn.feature_selection.mutual_info_classif\" werden die gegenseitige Information für eine diskrete Zielvariable abgeschätzt. \n",
    "\n",
    "Im Zusammenhang mit der Selektor \"SelecKBest\" kann man nur die k- Features (Wörte) selektieren, die mit höchster Punktzahl sind. \n",
    "SelectKBest(score_func=mutual_info_classif, k=1000).fit_transform(X, y)\n",
    "\n",
    "Hier sind die Wörter, die größeten Überraschungswert haben.  "
   ]
  },
  {
   "cell_type": "code",
   "execution_count": 23,
   "metadata": {
    "scrolled": true
   },
   "outputs": [
    {
     "name": "stderr",
     "output_type": "stream",
     "text": [
      "C:\\ProgramData\\Anaconda3\\lib\\site-packages\\sklearn\\feature_extraction\\text.py:385: UserWarning: Your stop_words may be inconsistent with your preprocessing. Tokenizing the stop words generated tokens ['ha', 'le', 'u', 'wa'] not in stop_words.\n",
      "  'stop_words.' % sorted(inconsistent))\n"
     ]
    },
    {
     "name": "stdout",
     "output_type": "stream",
     "text": [
      "[('weren', 4.825383977773157e-07), ('particular', 2.672577304889661e-06), ('closely', 4.216853359515892e-06), ('gone', 5.51746104575845e-06), ('specifically', 5.6988465387229625e-06), ('checking', 1.5735769059723034e-05), ('terrible', 1.7296629689487596e-05), ('speaking', 2.4212539816426387e-05), ('calm', 4.050239691795986e-05), ('elegant', 4.4032532348560255e-05), ('wanting', 4.7437372840871024e-05), ('suggests', 5.264266087417796e-05), ('knowing', 5.3796451510287543e-05), ('resulting', 5.403779055069722e-05), ('visible', 6.747192435909571e-05)]\n"
     ]
    }
   ],
   "source": [
    "countVectorizer = CountVectorizer(tokenizer = LemmaTokenizer(), min_df=0.01, stop_words='english')\n",
    "X_vec = countVectorizer.fit_transform(X).toarray()\n",
    "res = dict(zip(countVectorizer.get_feature_names(),\n",
    "               mutual_info_classif(X_vec, y, discrete_features=True)))\n",
    "sortdict = sorted(res.items(), key=lambda x: x[1]) [:15]   \n",
    "print(sortdict)"
   ]
  },
  {
   "cell_type": "markdown",
   "metadata": {},
   "source": [
    "## Processing"
   ]
  },
  {
   "cell_type": "markdown",
   "metadata": {},
   "source": [
    "Datensatz aufteilen.\n",
    "\n",
    "80% des Datensatz für das Training\n",
    "20% des Datensatz für den Test (Validierung)"
   ]
  },
  {
   "cell_type": "code",
   "execution_count": 24,
   "metadata": {},
   "outputs": [
    {
     "name": "stderr",
     "output_type": "stream",
     "text": [
      "C:\\ProgramData\\Anaconda3\\lib\\site-packages\\sklearn\\feature_extraction\\text.py:385: UserWarning: Your stop_words may be inconsistent with your preprocessing. Tokenizing the stop words generated tokens ['ha', 'le', 'u', 'wa'] not in stop_words.\n",
      "  'stop_words.' % sorted(inconsistent))\n"
     ]
    }
   ],
   "source": [
    "X = vectorizer.fit_transform(X)\n",
    "X_train, X_test, y_train, y_test = train_test_split(X, y, test_size=0.2, random_state=0)"
   ]
  },
  {
   "cell_type": "markdown",
   "metadata": {},
   "source": [
    "### Logistic Regression\n",
    "\n",
    "Logistic Regression ist ein Klassifizierungsalgorithmus für maschinelles Lernen, mit dem die Wahrscheinlichkeit einer kategorial abhängigen Variablen vorhergesagt wird. Bei der logistischen Regression ist die abhängige Variable eine binäre Variable, die Daten enthält, die als 1 (Ja, Erfolg usw.) oder 0 (Nein, Fehler usw.) codiert sind. Mit anderen Worten, das logistische Regressionsmodell sagt P (Y = 1) als Funktion von X voraus.\n",
    "\n",
    "#### Formale Definition\n",
    "Wie bei der linearen Regression sucht man geeignete Koeffizienten (w), sodass man das Modell mit der folgenden Formel beschreiben kann:\n",
    "\n",
    "y = w0 + w1*x1 + w2*x2 + ... + wn*xn\n",
    "\n",
    "Dies liefert eine die beliebig große oder kleine Zahl, die gar nichts mit Wahrscheinlichkeiten zu tun hat. Um eine Wahrscheinlichkeit zu erhalten benötigen wir eine Zahl zwischen 0 und 1, die wir mit der logistischen Funktion errechnen.\n"
   ]
  },
  {
   "cell_type": "markdown",
   "metadata": {},
   "source": [
    "### MultinomialNB\n",
    "\n",
    "Naiver Bayes-Klassifikator für multinomiale Modelle\n",
    "\n",
    "Der multinomiale Naive Bayes-Klassifikator eignet sich zur Klassifizierung mit diskreten Merkmalen. Die multinomiale Verteilung erfordert normalerweise ganzzahlige Merkmalszahlen. In der Praxis können jedoch auch Bruchzählungen wie tf-idf funktionieren.\n",
    "\n",
    "MultinomialNB implementiert den naiven Bayes-Algorithmus für multinomial verteilte Daten und ist eine der beiden klassischen naiven Bayes-Varianten, die bei der Textklassifizierung verwendet werden\n",
    "\n",
    "  Die Verteilung wird durch Vektoren für jede Klasse parametrisiert, wobei die Anzahl der Merkmale (bei der Textklassifizierung die Größe des Vokabulars) und die Wahrscheinlichkeit des Auftretens von Merkmalen in einer zur Klasse gehörenden Stichprobe angegeben werden.\n"
   ]
  },
  {
   "cell_type": "markdown",
   "metadata": {},
   "source": [
    "\\begin{align}\n",
    "\\hat{\\theta}_{yi} = \\frac{ N_{yi} + \\alpha}{N_y + \\alpha n}\n",
    "\\end{align}"
   ]
  },
  {
   "cell_type": "markdown",
   "metadata": {},
   "source": [
    "### Pipelines\n",
    "\n",
    "Mit der Pipeline können mehrere Schätzer zu einem verkettet werden.\n",
    "\n",
    "Dies ist nützlich, da es häufig eine feste Abfolge von Schritten bei der Verarbeitung der Daten gibt, beispielsweise Merkmalsauswahl, Normalisierung und Klassifizierung. Die Pipeline dient hier mehreren Zwecken.\n",
    "\n",
    "Zusammen mit GridsearchCV und VotingClassifier werden die best Klassifikator ausgewählt werden.\n"
   ]
  },
  {
   "cell_type": "code",
   "execution_count": 25,
   "metadata": {},
   "outputs": [
    {
     "name": "stdout",
     "output_type": "stream",
     "text": [
      "Fitting 5 folds for each of 7 candidates, totalling 35 fits\n"
     ]
    },
    {
     "name": "stderr",
     "output_type": "stream",
     "text": [
      "[Parallel(n_jobs=-1)]: Using backend LokyBackend with 4 concurrent workers.\n",
      "[Parallel(n_jobs=-1)]: Done   5 tasks      | elapsed:    3.8s\n",
      "[Parallel(n_jobs=-1)]: Done  10 tasks      | elapsed:    4.6s\n",
      "[Parallel(n_jobs=-1)]: Done  17 tasks      | elapsed:    5.9s\n",
      "[Parallel(n_jobs=-1)]: Done  24 tasks      | elapsed:    6.9s\n",
      "[Parallel(n_jobs=-1)]: Done  32 out of  35 | elapsed:    8.3s remaining:    0.7s\n",
      "[Parallel(n_jobs=-1)]: Done  35 out of  35 | elapsed:    8.8s finished\n"
     ]
    }
   ],
   "source": [
    "model1 = Pipeline([\n",
    "    ('logreg', LogisticRegression())\n",
    "])\n",
    " \n",
    "model2 = Pipeline([\n",
    "    ('mnb', MultinomialNB())\n",
    "])\n",
    " \n",
    "model3 = Pipeline([\n",
    "    ('sgdc', CalibratedClassifierCV(SGDClassifier()))\n",
    "])\n",
    "\n",
    "classifiers = [\n",
    "    (\"model1\", model1),\n",
    "    (\"model2\", model2),\n",
    "   (\"model3\", model3)\n",
    "]\n",
    " \n",
    "mixed_pipe = Pipeline([\n",
    "    (\"voting\", VotingClassifier(classifiers, voting=\"soft\"))\n",
    "])\n",
    "\n",
    "\n",
    "def combinations_on_off(num_classifiers):\n",
    "    return [[int(x) for x in list(\"{0:0b}\".format(i).zfill(num_classifiers))]\n",
    "            for i in range(1, 2 ** num_classifiers)]\n",
    "                           \n",
    "                           \n",
    "param_grid = dict(\n",
    "    voting__weights=combinations_on_off(len(classifiers))\n",
    ")\n",
    "\n",
    "\n",
    "grid_search = GridSearchCV(mixed_pipe, param_grid=param_grid, n_jobs=-1, verbose=10, scoring=\"neg_log_loss\")\n",
    " \n",
    "grid_search.fit(X_train, y_train)\n",
    "\n",
    "cv_results = grid_search.cv_results_"
   ]
  },
  {
   "cell_type": "markdown",
   "metadata": {},
   "source": [
    "### Evaluation auf der Validation-Menge\n"
   ]
  },
  {
   "cell_type": "markdown",
   "metadata": {},
   "source": [
    "#### Voting Gewichtung\n",
    "\n",
    "Im Ergebnis lässt sich sagen, dass die einzelne Nutzung von Logistic Regression ist das beste Klassifikator-Modell."
   ]
  },
  {
   "cell_type": "code",
   "execution_count": 26,
   "metadata": {},
   "outputs": [
    {
     "name": "stdout",
     "output_type": "stream",
     "text": [
      "{'voting__weights': [0, 0, 1]} -0.4921484270998908\n",
      "{'voting__weights': [0, 1, 0]} -0.670891464286753\n",
      "{'voting__weights': [0, 1, 1]} -0.448747041703787\n",
      "{'voting__weights': [1, 0, 0]} -0.43566479803292496\n",
      "{'voting__weights': [1, 0, 1]} -0.4563704557224021\n",
      "{'voting__weights': [1, 1, 0]} -0.44249377151491276\n",
      "{'voting__weights': [1, 1, 1]} -0.43895393089873735\n",
      "Best score: -0.436\n",
      "Best parameters set:\n",
      "\tvoting__weights: [1, 0, 0]\n"
     ]
    }
   ],
   "source": [
    "for mean_score, params in zip(cv_results[\"mean_test_score\"], cv_results[\"params\"]):\n",
    "    print(params, mean_score)\n",
    " \n",
    "print(\"Best score: %0.3f\" % grid_search.best_score_)\n",
    "print(\"Best parameters set:\")\n",
    "\n",
    "best_parameters = grid_search.best_estimator_.get_params()\n",
    "for param_name in sorted(param_grid.keys()):\n",
    "    print(\"\\t%s: %r\" % (param_name, best_parameters[param_name]))\n",
    "\n",
    "y_pred = grid_search.predict(X_test)\n",
    "\n",
    "\n",
    "probs = grid_search.predict_proba(X_test)[:,1]\n",
    "fpr, tpr, threshold = roc_curve(y_test, probs)\n",
    "roc = auc(fpr, tpr)"
   ]
  },
  {
   "cell_type": "markdown",
   "metadata": {},
   "source": [
    "#### Performance \n",
    "\n",
    "Die binäre Klassifizierung hat vier mögliche Arten von Ergebnissen:\n",
    "\n",
    "Wahre Negative: korrekt vorhergesagte Negative (Nullen)\n",
    "Echte Positive: korrekt vorhergesagte Positive (Einsen)\n",
    "Falsch negative: falsch vorhergesagte Negative (Nullen)\n",
    "False Positives: Falsch vorhergesagte Positive (Einsen)"
   ]
  },
  {
   "cell_type": "code",
   "execution_count": 27,
   "metadata": {},
   "outputs": [
    {
     "name": "stdout",
     "output_type": "stream",
     "text": [
      "[[385  52]\n",
      " [ 98 396]]\n"
     ]
    },
    {
     "data": {
      "image/png": "[encoded data removed]",
      "text/plain": [
       "<Figure size 432x288 with 2 Axes>"
      ]
     },
     "metadata": {
      "needs_background": "light"
     },
     "output_type": "display_data"
    },
    {
     "name": "stdout",
     "output_type": "stream",
     "text": [
      "(931,)\n"
     ]
    }
   ],
   "source": [
    "print(confusion_matrix(y_test,y_pred))\n",
    "\n",
    "plot_confusion_matrix(grid_search, X_test, y_test)  # doctest: +SKIP\n",
    "plt.show()  # doctest: +SKIP\n",
    "\n",
    "print(y_test.shape)"
   ]
  },
  {
   "cell_type": "markdown",
   "metadata": {},
   "source": [
    "### ROC-Kurve und AUC Score"
   ]
  },
  {
   "cell_type": "code",
   "execution_count": 28,
   "metadata": {},
   "outputs": [
    {
     "name": "stdout",
     "output_type": "stream",
     "text": [
      "AUC score: 0.8388829215896885\n"
     ]
    }
   ],
   "source": [
    "print(\"AUC score:\",accuracy_score(y_test, y_pred))"
   ]
  },
  {
   "cell_type": "code",
   "execution_count": 29,
   "metadata": {},
   "outputs": [
    {
     "data": {
      "image/png": "[encoded data removed]",
      "text/plain": [
       "<Figure size 432x288 with 1 Axes>"
      ]
     },
     "metadata": {
      "needs_background": "light"
     },
     "output_type": "display_data"
    }
   ],
   "source": [
    "# method I: plt\n",
    "import matplotlib.pyplot as plt\n",
    "plt.title('Receiver Operating Characteristic')\n",
    "plt.plot(fpr, tpr, 'b', label = 'AUC = %0.2f' % roc)\n",
    "plt.legend(loc = 'lower right')\n",
    "plt.plot([0, 1], [0, 1],'r--')\n",
    "plt.xlim([0, 1])\n",
    "plt.ylim([0, 1])\n",
    "plt.ylabel('True Positive Rate')\n",
    "plt.xlabel('False Positive Rate')\n",
    "plt.show()"
   ]
  },
  {
   "cell_type": "markdown",
   "metadata": {},
   "source": [
    "## Evaluation auf der Testmenge"
   ]
  },
  {
   "cell_type": "code",
   "execution_count": 30,
   "metadata": {},
   "outputs": [],
   "source": [
    "# Da Sie das Test-Set nicht haben, Führen Sie dies mit den ursprünglichen Daten durch:\n",
    "df_test = pd.read_csv('data_beleg.csv', encoding='utf-8')\n",
    "# Wird von mir ersetzt durch\n",
    "# df_test = pd.read_csv('data_test.csv', encoding='utf-8')\n",
    "# und sollte dann auch durchlaufen!"
   ]
  },
  {
   "cell_type": "code",
   "execution_count": null,
   "metadata": {},
   "outputs": [],
   "source": [
    "eval_x = df_test['text']+ df_test['title']\n",
    "eval_x = vectorizer.transform(eval_x)\n",
    "eval_y_test_true = df_test['label']"
   ]
  },
  {
   "cell_type": "code",
   "execution_count": null,
   "metadata": {},
   "outputs": [],
   "source": [
    "# Wenden Sie hier ihre Vorverarbeitung/Klassifikation ihres entgültigen Modells \n",
    "# an. \n",
    "\n",
    "# In dieser Variable sollte die Vorhersagewahrscheinlichkeit für die positive Klasse\n",
    "# p(y=1 | x) gespeichte sein.\n",
    "y_test_prob_class_1 = grid_search.predict_proba(eval_x)[:,1]"
   ]
  },
  {
   "cell_type": "code",
   "execution_count": null,
   "metadata": {},
   "outputs": [],
   "source": [
    "evaluate = roc_auc_score(eval_y_test_true, y_test_prob_class_1)\n",
    "print(\"evaluate:\",evaluate)"
   ]
  },
  {
   "cell_type": "markdown",
   "metadata": {},
   "source": [
    "### Literaturverzeichnis\n",
    "\n"
   ]
  },
  {
   "cell_type": "markdown",
   "metadata": {},
   "source": [
    "https://de.wikipedia.org/wiki/Tf-idf-Ma%C3%9F\n",
    "\n",
    "https://www.datacamp.com/community/tutorials/stemming-lemmatization-python\n",
    "\n",
    "https://www.machinelearningplus.com/nlp/lemmatization-examples-python\n",
    "\n",
    "https://www.ancud.de/logistische-regression-mit-python-und-exploratorische-datenanalyse/\n",
    "\n",
    "https://scikit-learn.org/stable/modules/feature_extraction.html#text-feature-extraction"
   ]
  }
 ],
 "metadata": {
  "celltoolbar": "Slideshow",
  "kernelspec": {
   "display_name": "Python 3",
   "language": "python",
   "name": "python3"
  },
  "language_info": {
   "codemirror_mode": {
    "name": "ipython",
    "version": 3
   },
   "file_extension": ".py",
   "mimetype": "text/x-python",
   "name": "python",
   "nbconvert_exporter": "python",
   "pygments_lexer": "ipython3",
   "version": "3.7.6"
  }
 },
 "nbformat": 4,
 "nbformat_minor": 4
}
